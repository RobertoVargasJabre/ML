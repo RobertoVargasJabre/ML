{
  "nbformat": 4,
  "nbformat_minor": 0,
  "metadata": {
    "kernelspec": {
      "display_name": "Python 3",
      "language": "python",
      "name": "python3"
    },
    "language_info": {
      "codemirror_mode": {
        "name": "ipython",
        "version": 3
      },
      "file_extension": ".py",
      "mimetype": "text/x-python",
      "name": "python",
      "nbconvert_exporter": "python",
      "pygments_lexer": "ipython3",
      "version": "3.6.9"
    },
    "nteract": {
      "version": "0.15.0"
    },
    "colab": {
      "name": "2020_1_ML_T1_Tarea1.ipynb",
      "provenance": [],
      "include_colab_link": true
    }
  },
  "cells": [
    {
      "cell_type": "markdown",
      "metadata": {
        "id": "view-in-github",
        "colab_type": "text"
      },
      "source": [
        "<a href=\"https://colab.research.google.com/github/RobertoVargasJabre/ML/blob/master/Tarea1.ipynb\" target=\"_parent\"><img src=\"https://colab.research.google.com/assets/colab-badge.svg\" alt=\"Open In Colab\"/></a>"
      ]
    },
    {
      "cell_type": "markdown",
      "metadata": {
        "id": "zJXSQJfoGFSQ",
        "colab_type": "text"
      },
      "source": [
        "<h1> <center> EFEB8001 - Machine Learning<br /> Tarea 1: Perceptron multicapa</center> </h1>\n",
        "<h2> <center>Profesor: Jorge Vergara </center></h2>\n",
        "<h3><center>2° semestre 2019 - UTEM </center></h3>\n",
        "\n",
        " ***"
      ]
    },
    {
      "cell_type": "markdown",
      "metadata": {
        "collapsed": true,
        "id": "xVGZwwkhGFSS",
        "colab_type": "text"
      },
      "source": [
        "# Inicialización de parámetros"
      ]
    },
    {
      "cell_type": "code",
      "metadata": {
        "id": "jVUzOsbr5P8s",
        "colab_type": "code",
        "colab": {
          "base_uri": "https://localhost:8080/",
          "height": 35
        },
        "outputId": "ad3b1e99-5851-4e35-e952-686d13919bbe"
      },
      "source": [
        "%tensorflow_version 1.x"
      ],
      "execution_count": 4,
      "outputs": [
        {
          "output_type": "stream",
          "text": [
            "1.15.2\n"
          ],
          "name": "stdout"
        }
      ]
    },
    {
      "cell_type": "code",
      "metadata": {
        "id": "SZJXAUcTGFSU",
        "colab_type": "code",
        "colab": {}
      },
      "source": [
        "%matplotlib notebook\n",
        "%matplotlib inline\n",
        "import tensorflow as tf\n",
        "from tensorflow.examples.tutorials.mnist import input_data\n",
        "import numpy as np\n",
        "import matplotlib.pylab as plt\n",
        "from os.path import sep\n",
        "from tqdm import tqdm\n",
        "from sklearn.metrics import confusion_matrix\n",
        "from sklearn.utils.multiclass import unique_labels\n",
        "\n",
        "# Dígito a identificar. Fija el dígito verificador de tu RUT (K=0).\n",
        "RUT_veri_number = 4\n",
        "\n",
        "# Parámetros de entrenamiento\n",
        "minibatch_size = 32\n",
        "max_epochs = 100\n",
        "max_validation_checks = 25\n",
        "\n",
        "# Parámetros de gradiente descendente estocástico\n",
        "learning_rate = 0.1\n",
        "\n",
        "# Función de pérdida: 'cross_entropy' or 'mse'\n",
        "loss_function_name = 'cross_entropy'  \n",
        "\n",
        "# Parámetros de configuración de la red\n",
        "n_inputs = 28*28    # Número de entradas\n",
        "n_hidden = 25       # Número de neuronas en la capa oculta\n",
        "n_classes = 2       # Número de salidas de la red\n",
        "n_neurons = (n_inputs, n_hidden, n_classes)\n",
        "# n_neurons = (n_inputs,  n_classes)   # Descomente para eliminar capa oculta\n",
        "\n",
        "# log dir\n",
        "experiment_name = \"default\"\n",
        "folder_repet   = \"1\"         # Cambiar valor cuando realice repeticiones de los experimentos\n",
        "logdir = \"tarea_1_logs\" + sep + experiment_name + sep + folder_repet"
      ],
      "execution_count": 0,
      "outputs": []
    },
    {
      "cell_type": "markdown",
      "metadata": {
        "id": "NS31-gVXGFSd",
        "colab_type": "text"
      },
      "source": [
        "# Preparación de base de datos MNIST\n"
      ]
    },
    {
      "cell_type": "code",
      "metadata": {
        "scrolled": false,
        "id": "lGi-VVCDGFSg",
        "colab_type": "code",
        "colab": {}
      },
      "source": [
        "def process_dataset(images, labels, selected_class):\n",
        "    shuffled_indexes = np.random.permutation(len(labels))\n",
        "    images = images[shuffled_indexes]\n",
        "    labels = labels[shuffled_indexes]\n",
        "    selected_column = labels[:, selected_class]\n",
        "    selected_images_indexes = np.where(selected_column == 1)[0]\n",
        "    selected_size = len(selected_images_indexes)\n",
        "    non_selected_indexes_subset = np.where(selected_column == 0)[0][:selected_size]\n",
        "    indexes = np.concatenate((selected_images_indexes, non_selected_indexes_subset), axis=0)\n",
        "    np.random.shuffle(indexes)\n",
        "    images_subset = images[indexes]\n",
        "    labels_subset = selected_column[indexes]\n",
        "    return images_subset, labels_subset\n",
        "\n",
        "# Carga base de datos. Datos originales se guardan en carpeta data\n",
        "mnist = input_data.read_data_sets(\"data\"+sep, one_hot=True)\n",
        "\n",
        "# Crea base de datos. Separa datos de dígito buscado versus el resto. \n",
        "# El análisis se hace para train, valid y test \n",
        "training_images,   training_labels   = process_dataset(mnist.train.images,      mnist.train.labels,      RUT_veri_number)\n",
        "validation_images, validation_labels = process_dataset(mnist.validation.images, mnist.validation.labels, RUT_veri_number)\n",
        "testing_images,  testing_labels      = process_dataset(mnist.test.images,       mnist.test.labels,       RUT_veri_number)\n",
        "\n",
        "# Visualizar algunas imagenes del dataset\n",
        "# Si no desea visualizar cambiar if True por if False\n",
        "if True:\n",
        "    nrows, ncols = 3,2\n",
        "    idxs_im = np.c_[np.where(training_labels==True)[0], np.where(training_labels==False)[0]]\n",
        "    idxs_ax = np.asarray(np.unravel_index(np.arange(nrows*ncols), (nrows, ncols))).T\n",
        "    fig,axs=plt.subplots(nrows=nrows, ncols=ncols, figsize=(8,8))\n",
        "    for count in range(nrows*ncols):\n",
        "        if count%2 == 0: image = training_images[idxs_im[count,0]]\n",
        "        else:            image = training_images[idxs_im[count,1]]\n",
        "        axs[idxs_ax[count,0],idxs_ax[count,1]].imshow(image.reshape((28, 28)))\n",
        "    fig.suptitle('Positive Class        -        Negative Class',fontsize=16)\n",
        "    _ = np.vectorize(lambda ax:ax.axis('off'))(axs)"
      ],
      "execution_count": 0,
      "outputs": []
    },
    {
      "cell_type": "markdown",
      "metadata": {
        "id": "KKLyuY13GFSo",
        "colab_type": "text"
      },
      "source": [
        "# Construcción de MLP"
      ]
    },
    {
      "cell_type": "code",
      "metadata": {
        "id": "AVnONTyAGFSp",
        "colab_type": "code",
        "colab": {}
      },
      "source": [
        "# Se crea entrada de la red\n",
        "MLP_input = tf.placeholder(tf.float32, shape=[None, n_inputs], name='MLP_input_placeholder')\n",
        "previous_layer = MLP_input\n",
        "\n",
        "# Pointer to weights and biases for regularization\n",
        "regularizers = 0\n",
        "\n",
        "# Iteration constructing one layer at a time\n",
        "for level in range(len(n_neurons)-1):\n",
        "    with tf.variable_scope(\"layer_\"+str(level)):\n",
        "        weights = tf.get_variable(\"weights_\"+str(level), [n_neurons[level],n_neurons[level+1]], initializer=tf.contrib.layers.xavier_initializer())\n",
        "        #weights = tf.Variable(tf.truncated_normal([n_neurons[level],n_neurons[level+1]], stddev=0.1))\n",
        "        biases = tf.get_variable(\"biases_\"+str(level), [n_neurons[level+1]], initializer=tf.constant_initializer(0.0))\n",
        "        applied_weights = tf.matmul(previous_layer, weights) + biases\n",
        "\n",
        "        regularizers += tf.nn.l2_loss(weights)\n",
        "\n",
        "        if level < len(n_neurons)-2:\n",
        "            layer = tf.nn.sigmoid(applied_weights)\n",
        "            previous_layer = layer\n",
        "        else:\n",
        "            MLP = applied_weights\n",
        "            break\n",
        "\n",
        "out_softmax = tf.nn.softmax(MLP)"
      ],
      "execution_count": 0,
      "outputs": []
    },
    {
      "cell_type": "markdown",
      "metadata": {
        "id": "7wXXQMQvGFSu",
        "colab_type": "text"
      },
      "source": [
        "# Función de costo"
      ]
    },
    {
      "cell_type": "code",
      "metadata": {
        "id": "NwKMqfRmGFSv",
        "colab_type": "code",
        "colab": {}
      },
      "source": [
        "# Accomodate target\n",
        "target = tf.placeholder(tf.float32, shape=None, name='target_placeholder')\n",
        "one_hot_target = tf.one_hot(tf.cast(target, dtype=tf.int32), 2)\n",
        "\n",
        "\n",
        "with tf.variable_scope(\"loss_function\"):\n",
        "    if loss_function_name == 'cross_entropy':\n",
        "        # Cross Entropy\n",
        "        loss_function = tf.reduce_mean(\n",
        "            tf.nn.softmax_cross_entropy_with_logits_v2(\n",
        "                logits=MLP,\n",
        "                labels=one_hot_target,\n",
        "                name='loss')\n",
        "        )\n",
        "    elif loss_function_name == 'mse':\n",
        "        # Mean Squared Error\n",
        "        loss_function = tf.reduce_mean(tf.square(one_hot_target - tf.nn.softmax(logits=MLP)))\n",
        "    else:\n",
        "        raise ValueError('Wrong value for loss_function_name')\n",
        "\n",
        "with tf.variable_scope(\"accuracy\"):    \n",
        "    correct_predictions = tf.equal(tf.argmax(MLP, 1),\n",
        "                                   tf.argmax(one_hot_target, 1))\n",
        "    accuracy = tf.reduce_mean(\n",
        "                tf.cast(correct_predictions, tf.float32), name='accuracy')\n",
        "\n",
        "# -- Punteros para guardar datos y visualizar en tensorboard ----\n",
        "# Tensorboard summary\n",
        "acc_sum = tf.summary.scalar(\"accuracy\", accuracy)\n",
        "# loss function summary\n",
        "loss_summ = tf.summary.scalar(\"loss_function\", loss_function)\n",
        "# add all summaries to summ\n",
        "summ = tf.summary.merge_all()\n",
        "val_summ = tf.summary.merge([acc_sum, loss_summ])"
      ],
      "execution_count": 0,
      "outputs": []
    },
    {
      "cell_type": "markdown",
      "metadata": {
        "id": "EBT2yEK4GFS1",
        "colab_type": "text"
      },
      "source": [
        "# Regularización "
      ]
    },
    {
      "cell_type": "code",
      "metadata": {
        "id": "L8GEqbsjGFS3",
        "colab_type": "code",
        "colab": {}
      },
      "source": [
        "# loss_function += 0.0005 * regularizers"
      ],
      "execution_count": 0,
      "outputs": []
    },
    {
      "cell_type": "markdown",
      "metadata": {
        "id": "4uQRgXUGGFS-",
        "colab_type": "text"
      },
      "source": [
        "# Método de optimización"
      ]
    },
    {
      "cell_type": "code",
      "metadata": {
        "id": "Fy_IYSyVGFS_",
        "colab_type": "code",
        "colab": {}
      },
      "source": [
        "with tf.variable_scope(\"train_process\"):\n",
        "    # Gradient Descent with Momentum\n",
        "    optimizer = tf.train.GradientDescentOptimizer(learning_rate)\n",
        "\n",
        "    # Adam Algorithm\n",
        "    # optimizer = tf.train.AdamOptimizer()\n",
        "\n",
        "    training_algorithm = optimizer.minimize(loss_function)"
      ],
      "execution_count": 0,
      "outputs": []
    },
    {
      "cell_type": "markdown",
      "metadata": {
        "id": "5qufzrdlGFTF",
        "colab_type": "text"
      },
      "source": [
        "# Entrenamiento del método"
      ]
    },
    {
      "cell_type": "code",
      "metadata": {
        "scrolled": false,
        "id": "ou8va5T1GFTF",
        "colab_type": "code",
        "outputId": "2b85e849-82c9-4cf4-8241-1690b5857439",
        "colab": {
          "base_uri": "https://localhost:8080/",
          "height": 54
        }
      },
      "source": [
        "sess = tf.Session()\n",
        "sess.run(tf.global_variables_initializer())\n",
        "\n",
        "writer1 = tf.summary.FileWriter(logdir + sep + \"train\")\n",
        "writer2 = tf.summary.FileWriter(logdir + sep + \"validation\")\n",
        "writer1.add_graph(sess.graph)\n",
        "\n",
        "n_minibatches = int(np.shape(training_images)[0] / minibatch_size) \n",
        "\n",
        "prev_validation_loss = 100.0\n",
        "validation_checks = 0\n",
        "validation_period = 10\n",
        "\n",
        "TRAIN_STOP_FLAG = False\n",
        "results_train = []\n",
        "results_valid = []\n",
        "results_test  = []\n",
        "for epoch in tqdm(range(max_epochs)):\n",
        "    if TRAIN_STOP_FLAG:\n",
        "        break\n",
        "    new_indexes = np.random.permutation(len(training_labels))\n",
        "    training_images[new_indexes]\n",
        "    training_labels[new_indexes]\n",
        "    for i_mb in range(n_minibatches):\n",
        "        if TRAIN_STOP_FLAG:\n",
        "            break\n",
        "        a,b = i_mb*minibatch_size, (i_mb+1)*minibatch_size\n",
        "        iteration = epoch*n_minibatches+i_mb\n",
        "        images_minibatch = training_images[a:b]\n",
        "        labels_minibatch = training_labels[a:b]\n",
        "        \n",
        "        sess.run(training_algorithm,feed_dict={MLP_input: images_minibatch, target: labels_minibatch})\n",
        "        if iteration % validation_period == 0:\n",
        "            loss_valid, validation_acc, s = sess.run(\n",
        "                [loss_function, accuracy, summ],\n",
        "                feed_dict={MLP_input: validation_images, target: validation_labels})\n",
        "            \n",
        "            writer2.add_summary(s, iteration)\n",
        "        \n",
        "            loss_train, train_acc, s = sess.run([loss_function, accuracy, summ],\n",
        "                                     feed_dict={MLP_input: training_images, target: training_labels})\n",
        "            writer1.add_summary(s, iteration)\n",
        "            \n",
        "            loss_test, test_acc = sess.run([loss_function, accuracy],\n",
        "                                     feed_dict={MLP_input: testing_images, target: testing_labels})\n",
        "            \n",
        "            results_train += [np.asarray([epoch,a,b,iteration,loss_valid, validation_acc])]\n",
        "            results_valid += [[epoch, a, b, iteration, loss_train, train_acc]]\n",
        "            results_test  += [[epoch, a, b, iteration, loss_test,  test_acc]]\n",
        "        \n",
        "            if loss_valid > prev_validation_loss:\n",
        "                validation_checks += 1\n",
        "            else:\n",
        "                validation_checks = 0\n",
        "                prev_validation_loss = loss_valid\n",
        "                \n",
        "#             print(\"Epoch: %d/%d, iter: %d. \" % (\n",
        "#                 epoch+1, \n",
        "#                 max_epochs,\n",
        "#                 iteration), end='')\n",
        "#             print(\"Loss (train/val): %.3f / %.3f. Val. accuracy: %.1f%%, Val. checks: %d/%d\" %(\n",
        "#                       loss_train,\n",
        "#                       loss_valid,\n",
        "#                       validation_acc*100, \n",
        "#                       validation_checks, \n",
        "#                       max_validation_checks))\n",
        "            \n",
        "            if validation_checks >= max_validation_checks:\n",
        "                TRAIN_STOP_FLAG = True\n",
        "\n",
        "if TRAIN_STOP_FLAG:\n",
        "    print('======================= Early stopping. Fin entrenamiento ===================')\n",
        "    \n",
        "writer1.flush()\n",
        "writer2.flush()\n",
        "\n",
        "# ---------- Matrices de resultados para train, valid y test ----------\n",
        "# Formato [epoca, inicio_batch, fin_batch, iteraciones, loss, accuracy]\n",
        "res_train = np.vstack(results_train)\n",
        "res_valid = np.vstack(results_valid)\n",
        "res_test  = np.vstack(results_test)\n",
        "\n",
        "# ------- Salidas de la red para train, valid y test ----------\n",
        "# Recuerde que red tiene solo una salida, pero acá solo se utiliza una para calcular las curvas ROC y DET\n",
        "predicted_training_labels   = sess.run(out_softmax[:,1], feed_dict={MLP_input: training_images})\n",
        "predicted_validation_labels = sess.run(out_softmax[:,1], feed_dict={MLP_input: validation_images})\n",
        "predicted_test_labels       = sess.run(out_softmax[:,1], feed_dict={MLP_input: testing_images})\n",
        "\n",
        "# ------ Guarda resultados en formato numpy en archivo results.npy --------\n",
        "np.save(logdir + sep + 'results.npy',[res_train,\n",
        "                                      res_valid,\n",
        "                                      res_test,\n",
        "                                      predicted_training_labels,\n",
        "                                      predicted_validation_labels,\n",
        "                                      predicted_test_labels])"
      ],
      "execution_count": 9,
      "outputs": [
        {
          "output_type": "stream",
          "text": [
            "  5%|▌         | 5/100 [00:04<01:29,  1.07it/s]"
          ],
          "name": "stderr"
        },
        {
          "output_type": "stream",
          "text": [
            "======================= Early stopping. Fin entrenamiento ===================\n"
          ],
          "name": "stdout"
        },
        {
          "output_type": "stream",
          "text": [
            "\n"
          ],
          "name": "stderr"
        }
      ]
    },
    {
      "cell_type": "code",
      "metadata": {
        "id": "ZqbiGw6sGFTK",
        "colab_type": "code",
        "colab": {}
      },
      "source": [
        "# Si se desea recuperar los datos guardados en results.npy descomentar las siguientes lineas\n",
        "\n",
        "# temp = np.load(logdir + sep + 'results.npy', allow_pickle=True)\n",
        "# res_train = temp[0]\n",
        "# res_valid = temp[1]\n",
        "# res_test  = temp[2]\n",
        "# predicted_training_labels   = temp[3]\n",
        "# predicted_validation_labels = temp[4]\n",
        "# predicted_test_labels       = temp[5]"
      ],
      "execution_count": 0,
      "outputs": []
    },
    {
      "cell_type": "markdown",
      "metadata": {
        "id": "ciH0_eB0GFTO",
        "colab_type": "text"
      },
      "source": [
        "# Visualización del desempeño de la red"
      ]
    },
    {
      "cell_type": "code",
      "metadata": {
        "id": "zMUKQepcGFTQ",
        "colab_type": "code",
        "outputId": "a2500242-cf25-4402-d546-fb11a9f920c7",
        "colab": {
          "base_uri": "https://localhost:8080/",
          "height": 415
        }
      },
      "source": [
        "fig2,axs2 = plt.subplots(nrows=2, ncols=1, figsize=(8,6), sharex=True)\n",
        "epochs_vec = res_train[:,3]/(len(training_labels)/minibatch_size)\n",
        "axs2[0].plot(epochs_vec, res_train[:,-1], label='Training')\n",
        "axs2[0].plot(epochs_vec, res_valid[:,-1], label='Validation')\n",
        "axs2[0].plot(epochs_vec, res_test[:,-1], label='Test')\n",
        "axs2[0].set_ylabel('Accuracy',fontsize=16)\n",
        "axs2[0].legend()\n",
        "axs2[0].grid(True)\n",
        "axs2[1].plot(epochs_vec, res_train[:,4], label='Training')\n",
        "axs2[1].plot(epochs_vec, res_valid[:,4], label='Validation')\n",
        "axs2[1].plot(epochs_vec, res_test[:,4], label='Test')\n",
        "axs2[1].set_ylabel('Loss',fontsize=16)\n",
        "axs2[1].legend()\n",
        "axs2[1].grid(True)\n",
        "axs2[1].set_xlabel('Epochs',fontsize=20)"
      ],
      "execution_count": 10,
      "outputs": [
        {
          "output_type": "execute_result",
          "data": {
            "text/plain": [
              "Text(0.5, 0, 'Epochs')"
            ]
          },
          "metadata": {
            "tags": []
          },
          "execution_count": 10
        },
        {
          "output_type": "display_data",
          "data": {
            "image/png": "[encoded data removed]",
            "text/plain": [
              "<Figure size 576x432 with 2 Axes>"
            ]
          },
          "metadata": {
            "tags": [],
            "needs_background": "light"
          }
        }
      ]
    },
    {
      "cell_type": "markdown",
      "metadata": {
        "id": "qploYHkrGFTV",
        "colab_type": "text"
      },
      "source": [
        "## Graficar resultados\n",
        "### Códigos para graficar"
      ]
    },
    {
      "cell_type": "code",
      "metadata": {
        "id": "toBvXTh1GFTW",
        "colab_type": "code",
        "colab": {}
      },
      "source": [
        "\n",
        "# Código para graficar matriz de confusion\n",
        "# get from: https://scikit-learn.org/stable/auto_examples/model_selection/plot_confusion_matrix.html\n",
        "\n",
        "def plot_confusion_matrix(y_true, y_pred, classes,\n",
        "                          ax=None,#plt.subplots()[1],\n",
        "                          normalize=False,\n",
        "                          title=None,\n",
        "                          cmap=plt.cm.Blues):\n",
        "    \"\"\"\n",
        "    This function prints and plots the confusion matrix.\n",
        "    Normalization can be applied by setting `normalize=True`.\n",
        "    \"\"\"\n",
        "\n",
        "    # Compute confusion matrix\n",
        "    cm = confusion_matrix(y_true, y_pred)\n",
        "    # Only use the labels that appear in the data\n",
        "    classes = classes[unique_labels(y_true, y_pred)]\n",
        "    if normalize:\n",
        "        cm = cm.astype('float') / cm.sum(axis=1)[:, np.newaxis]\n",
        "        print(\"Normalized confusion matrix\")\n",
        "    else:\n",
        "        print('Confusion matrix, without normalization')\n",
        "\n",
        "\n",
        "\n",
        "    im = ax.imshow(cm, interpolation='nearest', cmap=cmap)\n",
        "\n",
        "    # We want to show all ticks...\n",
        "    ax.set(xticks=np.arange(cm.shape[1]),\n",
        "           yticks=np.arange(cm.shape[0]),\n",
        "           # ... and label them with the respective list entries\n",
        "           xticklabels=classes, yticklabels=classes,\n",
        "           title=title,\n",
        "           ylabel='True label',\n",
        "           xlabel='Predicted label')\n",
        "\n",
        "    # Rotate the tick labels and set their alignment.\n",
        "    plt.setp(ax.get_xticklabels(), rotation=45, ha=\"right\",\n",
        "             rotation_mode=\"anchor\")\n",
        "\n",
        "    # Loop over data dimensions and create text annotations.\n",
        "    fmt = '.2f' if normalize else 'd'\n",
        "    thresh = cm.max() / 2.\n",
        "    for i in range(cm.shape[0]):\n",
        "        for j in range(cm.shape[1]):\n",
        "            ax.text(j, i, format(cm[i, j], fmt),\n",
        "                    ha=\"center\", va=\"center\",\n",
        "                    color=\"white\" if cm[i, j] > thresh else \"black\")\n",
        "    return ax\n",
        "\n",
        "## La matriz de confusion se obtiene de sklearn, pero acá esta el código para estudiar\n",
        "# def confusion_matrix(targets, outputs):\n",
        "#     '''Returns a confusion matrix. Both targets and outputs\n",
        "#     should be 1-D arrays of zeros and ones.'''\n",
        "#     encoded_data = 2*targets+outputs  # Map targets and outputs to {0, 1, 2, 3}\n",
        "#     TN = np.sum(encoded_data == 0)  # True negatives\n",
        "#     FP = np.sum(encoded_data == 1)  # False positives\n",
        "#     FN = np.sum(encoded_data == 2)  # False negatives\n",
        "#     TP = np.sum(encoded_data == 3)  # True positives\n",
        "#     return ((TP, FP), (FN, TN))\n",
        "\n",
        "def roc_curve(targets, outputs):\n",
        "    '''Returns a ROC curve. Outputs should be in range 0-1\n",
        "    in order to move the threshold.'''\n",
        "    tpr = []\n",
        "    fpr = []\n",
        "    for threshold in np.linspace(0, 1, 1000):\n",
        "        outputs_with_threshold = (outputs > threshold).astype(np.float)\n",
        "        ((TP, FP), (FN, TN)) = confusion_matrix(\n",
        "            targets, \n",
        "            outputs_with_threshold)\n",
        "        tpr.append(TP/(TP+FN))\n",
        "        fpr.append(FP/(FP+TN))\n",
        "    return np.array(tpr), np.array(fpr)"
      ],
      "execution_count": 0,
      "outputs": []
    },
    {
      "cell_type": "code",
      "metadata": {
        "id": "T6YgDj2fGFTb",
        "colab_type": "code",
        "colab": {}
      },
      "source": [
        "th = 0.5 # Umbral para determinar matriz de confusión\n",
        "temp='%s -- Clasificaciones correctas:%.2f%%\\nPrecision: %.2f%% -- Recall: %.2f%%'"
      ],
      "execution_count": 0,
      "outputs": []
    },
    {
      "cell_type": "markdown",
      "metadata": {
        "id": "BLATlFPmGFTh",
        "colab_type": "text"
      },
      "source": [
        "### Gráficos de base de entrenamiento"
      ]
    },
    {
      "cell_type": "code",
      "metadata": {
        "id": "haYfBU4lGFTi",
        "colab_type": "code",
        "outputId": "ce77b1da-9800-4b7d-f411-8e53b4e56b09",
        "colab": {
          "base_uri": "https://localhost:8080/",
          "height": 350
        }
      },
      "source": [
        "nameDataset = 'Training'\n",
        "y_true = training_labels\n",
        "y_pred = predicted_training_labels\n",
        "\n",
        "[[VN,FP],[FN,VP]] = confusion_matrix(y_true.astype(np.bool),\n",
        "                                     (y_pred>th).astype(np.bool))\n",
        "fig3,axs3 = plt.subplots(nrows=1, ncols=5, figsize=(10,4))\n",
        "plot_confusion_matrix(y_true.astype(np.int),\n",
        "                      (y_pred>th).astype(np.int),\n",
        "                      np.asarray(['N','P']),\n",
        "                      ax=axs3[0], \n",
        "                      title='Matriz de confusión')\n",
        "\n",
        "tpr, fpr = roc_curve(y_true, y_pred)\n",
        "\n",
        "axs3[1].axis('off')\n",
        "axs3[3].axis('off')\n",
        "\n",
        "axs3[2].plot(fpr, tpr, linewidth=2, alpha=0.5)\n",
        "axs3[2].set_xlabel(\"False Positive Rate\")\n",
        "axs3[2].set_ylabel(\"True Positive Rate\")\n",
        "axs3[2].grid()\n",
        "axs3[2].set_aspect('equal', 'box')\n",
        "axs3[2].set_title('ROC Curve')\n",
        "\n",
        "axs3[4].plot(fpr, 1.0 - tpr, linewidth=2, alpha=0.5)\n",
        "axs3[4].set_xlabel(\"False Positive Rate\")\n",
        "axs3[4].set_ylabel(\"False Negative Rate\")\n",
        "axs3[4].set_yscale('log')\n",
        "axs3[4].set_xscale('log')\n",
        "axs3[4].set_aspect('equal', 'box')\n",
        "axs3[4].grid()\n",
        "axs3[4].set_title('DET Curve');\n",
        "\n",
        "fig3.suptitle(temp% (nameDataset, 100.0*(VP+VN)/(VP+VN+FP+FN), 100.0*VP/(VP+FP), 100.0*VP/(VP+FN)),fontsize=16)"
      ],
      "execution_count": 14,
      "outputs": [
        {
          "output_type": "stream",
          "text": [
            "Confusion matrix, without normalization\n"
          ],
          "name": "stdout"
        },
        {
          "output_type": "stream",
          "text": [
            "/usr/local/lib/python3.6/dist-packages/ipykernel_launcher.py:73: RuntimeWarning: invalid value encountered in long_scalars\n",
            "/usr/local/lib/python3.6/dist-packages/ipykernel_launcher.py:74: RuntimeWarning: invalid value encountered in long_scalars\n"
          ],
          "name": "stderr"
        },
        {
          "output_type": "execute_result",
          "data": {
            "text/plain": [
              "Text(0.5, 0.98, 'Training -- Clasificaciones correctas:96.38%\\nPrecision: 95.06% -- Recall: 97.85%')"
            ]
          },
          "metadata": {
            "tags": []
          },
          "execution_count": 14
        },
        {
          "output_type": "display_data",
          "data": {
            "image/png": "[encoded data removed]",
            "text/plain": [
              "<Figure size 720x288 with 5 Axes>"
            ]
          },
          "metadata": {
            "tags": [],
            "needs_background": "light"
          }
        }
      ]
    },
    {
      "cell_type": "markdown",
      "metadata": {
        "id": "ma4N8-RIGFTn",
        "colab_type": "text"
      },
      "source": [
        "### Gráficos de base de validación"
      ]
    },
    {
      "cell_type": "code",
      "metadata": {
        "id": "eEn8vOtKGFTn",
        "colab_type": "code",
        "outputId": "8959d0f6-1a51-4890-d361-946f7a4df34f",
        "colab": {
          "base_uri": "https://localhost:8080/",
          "height": 350
        }
      },
      "source": [
        "nameDataset = 'Validation'\n",
        "y_true = validation_labels\n",
        "y_pred = predicted_validation_labels\n",
        "\n",
        "[[VN,FP],[FN,VP]] = confusion_matrix(y_true.astype(np.bool),\n",
        "                                     (y_pred>th).astype(np.bool))\n",
        "fig3,axs3 = plt.subplots(nrows=1, ncols=5, figsize=(10,4))\n",
        "plot_confusion_matrix(y_true.astype(np.int),\n",
        "                      (y_pred>th).astype(np.int),\n",
        "                      np.asarray(['N','P']),\n",
        "                      ax=axs3[0], \n",
        "                      title='Matriz de confusión')\n",
        "\n",
        "tpr, fpr = roc_curve(y_true, y_pred)\n",
        "\n",
        "axs3[1].axis('off')\n",
        "axs3[3].axis('off')\n",
        "\n",
        "axs3[2].plot(fpr, tpr, linewidth=2, alpha=0.5)\n",
        "axs3[2].set_xlabel(\"False Positive Rate\")\n",
        "axs3[2].set_ylabel(\"True Positive Rate\")\n",
        "axs3[2].grid()\n",
        "axs3[2].set_aspect('equal', 'box')\n",
        "axs3[2].set_title('ROC Curve')\n",
        "\n",
        "axs3[4].plot(fpr, 1.0 - tpr, linewidth=2, alpha=0.5)\n",
        "axs3[4].set_xlabel(\"False Positive Rate\")\n",
        "axs3[4].set_ylabel(\"False Negative Rate\")\n",
        "axs3[4].set_yscale('log')\n",
        "axs3[4].set_xscale('log')\n",
        "axs3[4].set_aspect('equal', 'box')\n",
        "axs3[4].grid()\n",
        "axs3[4].set_title('DET Curve');\n",
        "\n",
        "fig3.suptitle(temp% (nameDataset, 100.0*(VP+VN)/(VP+VN+FP+FN), 100.0*VP/(VP+FP), 100.0*VP/(VP+FN)),fontsize=16)"
      ],
      "execution_count": 15,
      "outputs": [
        {
          "output_type": "stream",
          "text": [
            "Confusion matrix, without normalization\n"
          ],
          "name": "stdout"
        },
        {
          "output_type": "stream",
          "text": [
            "/usr/local/lib/python3.6/dist-packages/ipykernel_launcher.py:73: RuntimeWarning: invalid value encountered in long_scalars\n",
            "/usr/local/lib/python3.6/dist-packages/ipykernel_launcher.py:74: RuntimeWarning: invalid value encountered in long_scalars\n"
          ],
          "name": "stderr"
        },
        {
          "output_type": "execute_result",
          "data": {
            "text/plain": [
              "Text(0.5, 0.98, 'Validation -- Clasificaciones correctas:96.36%\\nPrecision: 95.59% -- Recall: 97.20%')"
            ]
          },
          "metadata": {
            "tags": []
          },
          "execution_count": 15
        },
        {
          "output_type": "display_data",
          "data": {
            "image/png": "[encoded data removed]",
            "text/plain": [
              "<Figure size 720x288 with 5 Axes>"
            ]
          },
          "metadata": {
            "tags": [],
            "needs_background": "light"
          }
        }
      ]
    },
    {
      "cell_type": "markdown",
      "metadata": {
        "id": "wMg32OT6GFTt",
        "colab_type": "text"
      },
      "source": [
        "### Gráficos de base de Test"
      ]
    },
    {
      "cell_type": "code",
      "metadata": {
        "id": "Ra-wccJNGFTu",
        "colab_type": "code",
        "outputId": "bf37c27f-d009-44ba-c7d3-feea660b6646",
        "colab": {
          "base_uri": "https://localhost:8080/",
          "height": 350
        }
      },
      "source": [
        "nameDataset = 'Test'\n",
        "y_true = testing_labels\n",
        "y_pred = predicted_test_labels\n",
        "\n",
        "[[VN,FP],[FN,VP]] = confusion_matrix(y_true.astype(np.bool),\n",
        "                                     (y_pred>th).astype(np.bool))\n",
        "fig3,axs3 = plt.subplots(nrows=1, ncols=5, figsize=(10,4))\n",
        "plot_confusion_matrix(y_true.astype(np.int),\n",
        "                      (y_pred>th).astype(np.int),\n",
        "                      np.asarray(['N','P']),\n",
        "                      ax=axs3[0], \n",
        "                      title='Matriz de confusión')\n",
        "\n",
        "tpr, fpr = roc_curve(y_true, y_pred)\n",
        "\n",
        "axs3[1].axis('off')\n",
        "axs3[3].axis('off')\n",
        "\n",
        "axs3[2].plot(fpr, tpr, linewidth=2, alpha=0.5)\n",
        "axs3[2].set_xlabel(\"False Positive Rate\")\n",
        "axs3[2].set_ylabel(\"True Positive Rate\")\n",
        "axs3[2].grid()\n",
        "axs3[2].set_aspect('equal', 'box')\n",
        "axs3[2].set_title('ROC Curve')\n",
        "\n",
        "axs3[4].plot(fpr, 1.0 - tpr, linewidth=2, alpha=0.5)\n",
        "axs3[4].set_xlabel(\"False Positive Rate\")\n",
        "axs3[4].set_ylabel(\"False Negative Rate\")\n",
        "axs3[4].set_yscale('log')\n",
        "axs3[4].set_xscale('log')\n",
        "axs3[4].set_aspect('equal', 'box')\n",
        "axs3[4].grid()\n",
        "axs3[4].set_title('DET Curve');\n",
        "\n",
        "fig3.suptitle(temp% (nameDataset, 100.0*(VP+VN)/(VP+VN+FP+FN), 100.0*VP/(VP+FP), 100.0*VP/(VP+FN)),fontsize=16)"
      ],
      "execution_count": 16,
      "outputs": [
        {
          "output_type": "stream",
          "text": [
            "Confusion matrix, without normalization\n"
          ],
          "name": "stdout"
        },
        {
          "output_type": "stream",
          "text": [
            "/usr/local/lib/python3.6/dist-packages/ipykernel_launcher.py:73: RuntimeWarning: invalid value encountered in long_scalars\n",
            "/usr/local/lib/python3.6/dist-packages/ipykernel_launcher.py:74: RuntimeWarning: invalid value encountered in long_scalars\n"
          ],
          "name": "stderr"
        },
        {
          "output_type": "execute_result",
          "data": {
            "text/plain": [
              "Text(0.5, 0.98, 'Test -- Clasificaciones correctas:95.98%\\nPrecision: 93.79% -- Recall: 98.47%')"
            ]
          },
          "metadata": {
            "tags": []
          },
          "execution_count": 16
        },
        {
          "output_type": "display_data",
          "data": {
            "image/png": "[encoded data removed]",
            "text/plain": [
              "<Figure size 720x288 with 5 Axes>"
            ]
          },
          "metadata": {
            "tags": [],
            "needs_background": "light"
          }
        }
      ]
    },
    {
      "cell_type": "code",
      "metadata": {
        "id": "__s9wDfpGFTy",
        "colab_type": "code",
        "colab": {}
      },
      "source": [
        ""
      ],
      "execution_count": 0,
      "outputs": []
    }
  ]
}